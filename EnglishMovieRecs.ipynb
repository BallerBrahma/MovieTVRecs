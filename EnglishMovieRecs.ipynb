{
 "cells": [
  {
   "cell_type": "code",
   "execution_count": 1,
   "id": "48c6cc00-9498-4219-9210-b9ea0fea54b0",
   "metadata": {},
   "outputs": [],
   "source": [
    "import pandas as pd\n",
    "from sklearn.feature_extraction.text import TfidfVectorizer\n",
    "from sklearn.neighbors import NearestNeighbors"
   ]
  },
  {
   "cell_type": "code",
   "execution_count": 2,
   "id": "39d577ad-445d-4afe-b0be-d28978b72f47",
   "metadata": {},
   "outputs": [],
   "source": [
    "combined_data = pd.read_csv('english.csv')\n",
    "combined_data['features'] = combined_data['overview'].fillna('').astype(str) + ' ' + combined_data['genres'].fillna('').astype(str)+ ' ' + combined_data['vote_average'].fillna('').astype(str) +  ' ' + combined_data['popularity'].fillna('').astype(str)"
   ]
  },
  {
   "cell_type": "code",
   "execution_count": 3,
   "id": "cfd70472-6a01-40bb-869c-a2d9df977fd7",
   "metadata": {},
   "outputs": [],
   "source": [
    "tfidf = TfidfVectorizer(stop_words='english')\n",
    "tfidf_matrix = tfidf.fit_transform(combined_data['features'])\n",
    "tfidf_models = (tfidf, tfidf_matrix)"
   ]
  },
  {
   "cell_type": "code",
   "execution_count": 4,
   "id": "cb2b54cd-7526-47c2-8f39-e5e474b1d7c0",
   "metadata": {},
   "outputs": [],
   "source": [
    "nn_model = NearestNeighbors(n_neighbors=6, algorithm='auto')\n",
    "nn_model.fit(tfidf_models[1])\n",
    "nn_models = nn_model"
   ]
  },
  {
   "cell_type": "code",
   "execution_count": 5,
   "id": "66d4af94-c9fa-4e2c-aec3-4c0c7fb59e7b",
   "metadata": {},
   "outputs": [],
   "source": [
    "def get_recommendations_with_overviews(movie_name, tfidf_models=tfidf_models, nn_models=nn_models, combined_data=combined_data):\n",
    "    tfidf, tfidf_matrix = tfidf_models\n",
    "    nn_model = nn_models\n",
    "    movie_features = combined_data[combined_data['title'] == movie_name]['features'].iloc[0]\n",
    "    movie_tfidf = tfidf.transform([movie_features])\n",
    "    distances, indices = nn_model.kneighbors(movie_tfidf)\n",
    "    movie_indices = indices.flatten()[1:]\n",
    "    recommendations_with_overviews = []\n",
    "    for idx in movie_indices:\n",
    "        movie_name = combined_data['title'].iloc[idx]\n",
    "        movie_overview = combined_data['overview'].iloc[idx]\n",
    "        recommendations_with_overviews.append(movie_name)\n",
    "    return recommendations_with_overviews"
   ]
  },
  {
   "cell_type": "code",
   "execution_count": null,
   "id": "b98473f7-064c-4bf6-b023-726ff70b2aa1",
   "metadata": {},
   "outputs": [
    {
     "name": "stdout",
     "output_type": "stream",
     "text": [
      " * Serving Flask app '__main__'\n",
      " * Debug mode: off\n"
     ]
    },
    {
     "name": "stderr",
     "output_type": "stream",
     "text": [
      "\u001b[31m\u001b[1mWARNING: This is a development server. Do not use it in a production deployment. Use a production WSGI server instead.\u001b[0m\n",
      " * Running on http://127.0.0.1:5000\n",
      "\u001b[33mPress CTRL+C to quit\u001b[0m\n",
      "127.0.0.1 - - [13/Apr/2024 13:22:09] \"GET / HTTP/1.1\" 200 -\n",
      "127.0.0.1 - - [13/Apr/2024 13:22:23] \"POST /recommendations HTTP/1.1\" 200 -\n",
      "127.0.0.1 - - [13/Apr/2024 13:24:35] \"POST /recommendations HTTP/1.1\" 200 -\n",
      "127.0.0.1 - - [13/Apr/2024 13:26:04] \"POST /recommendations HTTP/1.1\" 200 -\n"
     ]
    }
   ],
   "source": [
    "from flask import Flask, render_template, request\n",
    "\n",
    "app = Flask(__name__)\n",
    "\n",
    "@app.route('/')\n",
    "def index():\n",
    "    return render_template('index.html')\n",
    "\n",
    "@app.route('/recommendations', methods=['POST'])\n",
    "def recommendations():\n",
    "    movie_name = request.form['movie_name']\n",
    "    recommendations = get_recommendations_with_overviews(movie_name)\n",
    "    return render_template('recommendations.html', recommendations=recommendations)\n",
    "\n",
    "if __name__ == '__main__':\n",
    "    app.run(port=5000)"
   ]
  },
  {
   "cell_type": "code",
   "execution_count": 36,
   "id": "db446410-33ad-4132-8250-b8f4e8cab524",
   "metadata": {},
   "outputs": [
    {
     "name": "stdout",
     "output_type": "stream",
     "text": [
      "Bride Wars\n",
      "Two best friends become rivals when their respective weddings are accidentally booked for the same day.\n",
      "\n",
      "Forsaken\n",
      "John Henry returns to his hometown in hopes of repairing his relationship with his estranged father, but a local gang is terrorizing the town. John Henry is the only one who can stop them, however he has abandoned both his gun and reputation as a fearless quick-draw killer.\n",
      "\n",
      "I Still Believe\n",
      "The true-life story of Christian music star Jeremy Camp and his journey of love and loss that looks to prove there is always hope.\n",
      "\n",
      "What Lies Beneath\n",
      "When Claire Spencer starts hearing ghostly voices and seeing spooky images, she wonders if an otherworldly spirit is trying to contact her. All the while, her husband tries to reassure her by telling her it's all in her head. But as Claire investigates, she discovers that the man she loves might know more than he's letting on.\n",
      "\n",
      "Dance with Me\n",
      "Young Cuban Rafael just buried his mother, and comes to Houston to meet his father John for the first time. The difficult part is that John doesn't know he is Rafael's father. John runs a dance studio, and everyone prepares for the World Open Dance championship in Las Vegas. It soon becomes clear Rafael is a very good dancer, and Ruby is the biggest hope for the studio at the championship.\n",
      "\n"
     ]
    }
   ],
   "source": [
    "movie_name = 'Wedding Crashers'\n",
    "recommendations_with_overviews = get_recommendations_with_overviews(movie_name)\n",
    "for movie in recommendations_with_overviews:\n",
    "    print(movie['name'])\n",
    "    if pd.notnull(movie['overview']):\n",
    "        print(movie['overview'])\n",
    "    print()"
   ]
  },
  {
   "cell_type": "code",
   "execution_count": null,
   "id": "be2d27fb-3a44-4740-92cc-19ee1f6a835e",
   "metadata": {},
   "outputs": [],
   "source": []
  }
 ],
 "metadata": {
  "kernelspec": {
   "display_name": "Python 3 (ipykernel)",
   "language": "python",
   "name": "python3"
  },
  "language_info": {
   "codemirror_mode": {
    "name": "ipython",
    "version": 3
   },
   "file_extension": ".py",
   "mimetype": "text/x-python",
   "name": "python",
   "nbconvert_exporter": "python",
   "pygments_lexer": "ipython3",
   "version": "3.11.1"
  }
 },
 "nbformat": 4,
 "nbformat_minor": 5
}
