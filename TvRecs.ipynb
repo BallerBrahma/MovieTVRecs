{
 "cells": [
  {
   "cell_type": "code",
   "execution_count": 1,
   "id": "f3b34049-9818-45f2-9f5e-06e50b44600f",
   "metadata": {},
   "outputs": [],
   "source": [
    "import pandas as pd\n",
    "from sklearn.feature_extraction.text import TfidfVectorizer\n",
    "from sklearn.neighbors import NearestNeighbors"
   ]
  },
  {
   "cell_type": "code",
   "execution_count": 2,
   "id": "8fa90ed6-69e8-4a8d-82c0-c76232ece6b1",
   "metadata": {},
   "outputs": [],
   "source": [
    "combined_data = pd.read_csv('tvshows.csv')\n",
    "combined_data['features'] = combined_data['overview'].fillna('').astype(str) + ' ' + combined_data['vote_average'].fillna('').astype(str) + ' ' + combined_data['popularity'].fillna('').astype(str) +  ' ' + combined_data['original_language'].fillna('').astype(str)"
   ]
  },
  {
   "cell_type": "code",
   "execution_count": 3,
   "id": "eb07d098-ccd0-4239-bd87-a7069e68a1c5",
   "metadata": {},
   "outputs": [],
   "source": [
    "tfidf = TfidfVectorizer(stop_words='english')\n",
    "tfidf_matrix = tfidf.fit_transform(combined_data['features'])\n",
    "tfidf_models = (tfidf, tfidf_matrix)"
   ]
  },
  {
   "cell_type": "code",
   "execution_count": 4,
   "id": "beaac321-38a2-4e17-96f8-5f32aa15e216",
   "metadata": {},
   "outputs": [],
   "source": [
    "nn_model = NearestNeighbors(n_neighbors=6, algorithm='auto')\n",
    "nn_model.fit(tfidf_models[1])\n",
    "nn_models = nn_model"
   ]
  },
  {
   "cell_type": "code",
   "execution_count": 5,
   "id": "0502972c-2476-43dc-9ea9-51804af5a7ce",
   "metadata": {},
   "outputs": [],
   "source": [
    "def get_recommendations_with_overviews(show_name, tfidf_models=tfidf_models, nn_models=nn_models, combined_data=combined_data):\n",
    "    tfidf, tfidf_matrix = tfidf_models\n",
    "    nn_model = nn_models\n",
    "    show_features = combined_data[combined_data['name'] == show_name]['features'].iloc[0]\n",
    "    show_tfidf = tfidf.transform([show_features])\n",
    "    distances, indices = nn_model.kneighbors(show_tfidf)\n",
    "    show_indices = indices.flatten()[1:]\n",
    "    recommendations_with_overviews = []\n",
    "    for idx in show_indices:\n",
    "        show_name = combined_data['name'].iloc[idx]\n",
    "        show_overview = combined_data['overview'].iloc[idx]\n",
    "        recommendations_with_overviews.append(show_name)\n",
    "    return recommendations_with_overviews"
   ]
  },
  {
   "cell_type": "code",
   "execution_count": null,
   "id": "ff72c5b5-b867-4a0a-bca3-f127b39eb92b",
   "metadata": {},
   "outputs": [
    {
     "name": "stdout",
     "output_type": "stream",
     "text": [
      " * Serving Flask app '__main__'\n",
      " * Debug mode: off\n"
     ]
    },
    {
     "name": "stderr",
     "output_type": "stream",
     "text": [
      "\u001b[31m\u001b[1mWARNING: This is a development server. Do not use it in a production deployment. Use a production WSGI server instead.\u001b[0m\n",
      " * Running on http://127.0.0.1:5001\n",
      "\u001b[33mPress CTRL+C to quit\u001b[0m\n",
      "127.0.0.1 - - [13/Apr/2024 13:39:31] \"GET / HTTP/1.1\" 200 -\n",
      "127.0.0.1 - - [13/Apr/2024 13:39:47] \"POST /recommendations HTTP/1.1\" 200 -\n"
     ]
    }
   ],
   "source": [
    "from flask import Flask, render_template, request\n",
    "\n",
    "app = Flask(__name__)\n",
    "\n",
    "@app.route('/')\n",
    "def index():\n",
    "    return render_template('index.html')\n",
    "\n",
    "@app.route('/recommendations', methods=['POST'])\n",
    "def recommendations():\n",
    "    movie_name = request.form['movie_name']\n",
    "    recommendations = get_recommendations_with_overviews(movie_name)\n",
    "    return render_template('recommendations.html', recommendations=recommendations)\n",
    "\n",
    "if __name__ == '__main__':\n",
    "    app.run(port=5001)"
   ]
  },
  {
   "cell_type": "code",
   "execution_count": null,
   "id": "62ab8997-cb8f-40db-baff-1a991229170a",
   "metadata": {},
   "outputs": [],
   "source": []
  }
 ],
 "metadata": {
  "kernelspec": {
   "display_name": "Python 3 (ipykernel)",
   "language": "python",
   "name": "python3"
  },
  "language_info": {
   "codemirror_mode": {
    "name": "ipython",
    "version": 3
   },
   "file_extension": ".py",
   "mimetype": "text/x-python",
   "name": "python",
   "nbconvert_exporter": "python",
   "pygments_lexer": "ipython3",
   "version": "3.11.1"
  }
 },
 "nbformat": 4,
 "nbformat_minor": 5
}
