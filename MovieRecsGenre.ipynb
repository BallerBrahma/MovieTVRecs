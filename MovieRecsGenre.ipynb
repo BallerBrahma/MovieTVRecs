{
 "cells": [
  {
   "cell_type": "code",
   "execution_count": 1,
   "id": "1eef8724-0f79-4681-be6b-6b799574d333",
   "metadata": {},
   "outputs": [],
   "source": [
    "import pandas as pd\n",
    "from sklearn.feature_extraction.text import TfidfVectorizer\n",
    "from sklearn.neighbors import NearestNeighbors"
   ]
  },
  {
   "cell_type": "code",
   "execution_count": 72,
   "id": "0ad473db-c714-4408-b18d-b16b0e87de54",
   "metadata": {},
   "outputs": [],
   "source": [
    "genres = ['action', 'adventure', 'animation', 'biography', 'crime', 'family', 'fantasy', 'history', 'horror', 'mystery', 'romance', 'scifi', 'sports', 'telugu', 'thriller', 'war']  # Add more genres as needed\n",
    "genre_data = {}\n",
    "for genre in genres:\n",
    "    genre_data[genre] = pd.read_csv(f'{genre}.csv')\n",
    "    if genre != 'telugu':\n",
    "        if 'description' not in genre_data[genre].columns:\n",
    "            raise ValueError(f\"Description column not found in {genre} dataset.\")\n",
    "    if genre == 'telugu':\n",
    "        genre_data[genre]['features'] = genre_data[genre]['Overview'].fillna('').astype(str) + ' ' + genre_data[genre]['Rating'].fillna('').astype(str)\n",
    "    else:\n",
    "        genre_data[genre]['features'] = genre_data[genre]['description'].fillna('').astype(str) + ' ' + genre_data[genre]['rating'].fillna('').astype(str) + ' ' + genre_data[genre]['director'].fillna('').astype(str)+ ' ' + genre_data[genre]['votes'].fillna('').astype(str)"
   ]
  },
  {
   "cell_type": "code",
   "execution_count": 73,
   "id": "1e63e060-8b1d-4337-99c3-e9be195121f9",
   "metadata": {},
   "outputs": [],
   "source": [
    "tfidf_models = {}\n",
    "for genre in genres:\n",
    "    tfidf = TfidfVectorizer(stop_words='english')\n",
    "    tfidf_matrix = tfidf.fit_transform(genre_data[genre]['features'])\n",
    "    tfidf_models[genre] = (tfidf, tfidf_matrix)"
   ]
  },
  {
   "cell_type": "code",
   "execution_count": 74,
   "id": "061e7c23-d609-43dc-ba1b-4325ca2439e5",
   "metadata": {},
   "outputs": [],
   "source": [
    "nn_models = {}\n",
    "for genre in genres:\n",
    "    nn_model = NearestNeighbors(n_neighbors=6, algorithm='auto')\n",
    "    nn_model.fit(tfidf_models[genre][1])\n",
    "    nn_models[genre] = nn_model"
   ]
  },
  {
   "cell_type": "code",
   "execution_count": 75,
   "id": "851bc650-5572-4a5f-9593-8aa56d00f675",
   "metadata": {},
   "outputs": [],
   "source": [
    "def get_recommendations_with_overviews(movie_name, genre, tfidf_models=tfidf_models, nn_models=nn_models, genre_data=genre_data):\n",
    "    name = None\n",
    "    summary = None\n",
    "    if genre == 'telugu':\n",
    "        name = 'Movie'\n",
    "        summary = 'Overview'\n",
    "    else:\n",
    "        name = 'movie_name'\n",
    "        summary = 'description'\n",
    "    tfidf, tfidf_matrix = tfidf_models[genre]\n",
    "    nn_model = nn_models[genre]\n",
    "    movie_features = genre_data[genre][genre_data[genre][name] == movie_name]['features'].iloc[0]\n",
    "    movie_tfidf = tfidf.transform([movie_features])\n",
    "    distances, indices = nn_model.kneighbors(movie_tfidf)\n",
    "    movie_indices = indices.flatten()[1:]\n",
    "    recommendations_with_overviews = []\n",
    "    for idx in movie_indices:\n",
    "        movie_name = genre_data[genre][name].iloc[idx]\n",
    "        movie_overview = genre_data[genre][summary].iloc[idx]\n",
    "        recommendations_with_overviews.append({'name': movie_name, 'overview': movie_overview})\n",
    "    return recommendations_with_overviews"
   ]
  },
  {
   "cell_type": "code",
   "execution_count": 85,
   "id": "283fdb0b-d4c2-45dd-9836-5b136fa826f7",
   "metadata": {},
   "outputs": [
    {
     "name": "stdout",
     "output_type": "stream",
     "text": [
      "Inside Out 2\n",
      "Follow Riley, in her teenage years encountering new emotions.\n",
      "\n",
      "El ruiseñor chino\n",
      "\n",
      "Rapunsell\n",
      "\n",
      "Don't Give Up the Ghost\n",
      "A child's world transforms everything into magic or into fear. Summer vacation. 3 French brothers, Matt (17), Eliot (14) and Lucas (7), follow their American mother to San Francisco where ...                See full summary »\n",
      "\n",
      "Up\n",
      "78-year-old Carl Fredricksen travels to Paradise Falls in his house equipped with balloons, inadvertently taking a young stowaway.\n",
      "\n"
     ]
    }
   ],
   "source": [
    "genre = 'family'\n",
    "movie_name = 'Inside Out'\n",
    "recommendations_with_overviews = get_recommendations_with_overviews(movie_name, genre)\n",
    "for movie in recommendations_with_overviews:\n",
    "    print(movie['name'])\n",
    "    if pd.notnull(movie['overview']) and movie['overview'] != 'Add a Plot' and movie['overview'] != 'Plot is unknown.' :\n",
    "        print(movie['overview'])\n",
    "    print()\n",
    "\n"
   ]
  },
  {
   "cell_type": "code",
   "execution_count": null,
   "id": "0bdf7f9f-cbfa-49be-a23c-8a165f3115f6",
   "metadata": {},
   "outputs": [],
   "source": []
  }
 ],
 "metadata": {
  "kernelspec": {
   "display_name": "Python 3 (ipykernel)",
   "language": "python",
   "name": "python3"
  },
  "language_info": {
   "codemirror_mode": {
    "name": "ipython",
    "version": 3
   },
   "file_extension": ".py",
   "mimetype": "text/x-python",
   "name": "python",
   "nbconvert_exporter": "python",
   "pygments_lexer": "ipython3",
   "version": "3.11.1"
  }
 },
 "nbformat": 4,
 "nbformat_minor": 5
}
